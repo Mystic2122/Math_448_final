{
 "cells": [
  {
   "cell_type": "code",
   "execution_count": 1,
   "metadata": {},
   "outputs": [],
   "source": [
    "import pandas as pd\n",
    "import statsmodels.api as sm\n",
    "import numpy as np\n",
    "import matplotlib.pyplot as plt\n",
    "from sklearn.neighbors import KNeighborsClassifier\n",
    "from sklearn.model_selection import train_test_split"
   ]
  },
  {
   "cell_type": "code",
   "execution_count": 2,
   "metadata": {},
   "outputs": [],
   "source": [
    "data = pd.read_json(\"NBA_player_data.json\")"
   ]
  },
  {
   "cell_type": "code",
   "execution_count": 3,
   "metadata": {},
   "outputs": [],
   "source": [
    "position_mapping = {\"PG\": 1, \"SG\": 2, \"SF\": 3, \"PF\": 4, \"C\": 5}\n",
    "\n",
    "data = data.drop(data.columns[0], axis=1)"
   ]
  },
  {
   "cell_type": "code",
   "execution_count": 15,
   "metadata": {},
   "outputs": [],
   "source": [
    "features = [\"AST\",\"BLK\",\"TRB\",  \"STL\", \"TOV\", \"FG%\",\"FGA\",\"3P%\",\"2P%\"]\n",
    "target = \"Pos\"\n",
    "\n",
    "X = data[features]\n",
    "y = data[target]\n",
    "\n",
    "# Split the data into training and testing sets\n",
    "X_train, X_test, y_train, y_test = train_test_split(X, y, test_size=0.1,random_state=42)\n"
   ]
  },
  {
   "cell_type": "code",
   "execution_count": 14,
   "metadata": {},
   "outputs": [
    {
     "name": "stdout",
     "output_type": "stream",
     "text": [
      "Best k: 8\n",
      "Accuracy with best k: 0.5524475524475524\n"
     ]
    }
   ],
   "source": [
    "#LOOCV\n",
    "from sklearn.model_selection import LeaveOneOut, cross_val_score\n",
    "\n",
    "\n",
    "k_values = range(1, 21)  # Trying k values from 1 to 20\n",
    "\n",
    "# Perform LOOCV for each value of k\n",
    "mean_accuracy_scores = []\n",
    "for k in k_values:\n",
    "    knn_classifier = KNeighborsClassifier(n_neighbors=k)\n",
    "    loocv = LeaveOneOut()\n",
    "    scores = cross_val_score(knn_classifier, X, y, cv=loocv)\n",
    "    mean_accuracy_scores.append(scores.mean())\n",
    "\n",
    "# Find the best k value\n",
    "best_k = k_values[np.argmax(mean_accuracy_scores)]\n",
    "best_accuracy = max(mean_accuracy_scores)\n",
    "\n",
    "model = KNeighborsClassifier(n_neighbors=best_k)\n",
    "model.fit(X_train,y_train)\n",
    "print(f\"Best k: {best_k}\")\n",
    "print(f\"Accuracy with best k: {best_accuracy}\")\n",
    "#Best k = 8\n"
   ]
  },
  {
   "cell_type": "code",
   "execution_count": 16,
   "metadata": {},
   "outputs": [
    {
     "name": "stdout",
     "output_type": "stream",
     "text": [
      "Mean accuracy with 14-fold cross-validation: 0.5554531490015361\n"
     ]
    }
   ],
   "source": [
    "from sklearn.model_selection import cross_val_score, KFold\n",
    "\n",
    "# Define the KNN classifier\n",
    "knn_classifier = KNeighborsClassifier(n_neighbors=best_k) \n",
    "\n",
    "acc = {}\n",
    "\n",
    "# Perform k-fold cross-validation\n",
    "for i in range(5,21):\n",
    "    kfold = KFold(n_splits=i)\n",
    "    scores = cross_val_score(knn_classifier, X, y, cv=i)\n",
    "\n",
    "    # Calculate the mean accuracy\n",
    "    mean_accuracy = scores.mean()\n",
    "    acc[i] = mean_accuracy\n",
    "\n",
    "max_acc = max(acc.values())\n",
    "max_fold = max(acc, key=acc.get)\n",
    "\n",
    "print(f\"Mean accuracy with {max_fold}-fold cross-validation: {max_acc}\")\n",
    "#Best fold = 14"
   ]
  }
 ],
 "metadata": {
  "kernelspec": {
   "display_name": "Python 3",
   "language": "python",
   "name": "python3"
  },
  "language_info": {
   "codemirror_mode": {
    "name": "ipython",
    "version": 3
   },
   "file_extension": ".py",
   "mimetype": "text/x-python",
   "name": "python",
   "nbconvert_exporter": "python",
   "pygments_lexer": "ipython3",
   "version": "3.11.1"
  }
 },
 "nbformat": 4,
 "nbformat_minor": 2
}
