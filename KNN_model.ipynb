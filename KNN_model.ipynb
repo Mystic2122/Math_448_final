{
 "cells": [
  {
   "cell_type": "code",
   "execution_count": 94,
   "metadata": {},
   "outputs": [],
   "source": [
    "import pandas as pd\n",
    "import statsmodels.api as sm\n",
    "import numpy as np\n",
    "import matplotlib.pyplot as plt\n",
    "from sklearn.neighbors import KNeighborsClassifier\n",
    "from sklearn import linear_model, preprocessing\n",
    "import sklearn.model_selection\n",
    "from sklearn.model_selection import train_test_split"
   ]
  },
  {
   "cell_type": "code",
   "execution_count": 95,
   "metadata": {},
   "outputs": [],
   "source": [
    "data = pd.read_json(\"NBA_player_data.json\")"
   ]
  },
  {
   "cell_type": "code",
   "execution_count": 96,
   "metadata": {},
   "outputs": [],
   "source": [
    "position_mapping = {\"PG\": 1, \"SG\": 2, \"SF\": 3, \"PF\": 4, \"C\": 5}\n",
    "\n",
    "data = data.drop(data.columns[0], axis=1)"
   ]
  },
  {
   "cell_type": "code",
   "execution_count": 97,
   "metadata": {},
   "outputs": [],
   "source": [
    "features = [\"AST\", \"TRB\", \"BLK\", \"STL\", \"TOV\", \"FG%\", \"FT%\"]\n",
    "target = \"Pos\"\n",
    "\n",
    "X = data[features]\n",
    "y = data[target]\n",
    "\n",
    "# Split the data into training and testing sets\n",
    "X_train, X_test, y_train, y_test = train_test_split(X, y, test_size=0.1)\n"
   ]
  },
  {
   "cell_type": "code",
   "execution_count": 98,
   "metadata": {},
   "outputs": [
    {
     "name": "stdout",
     "output_type": "stream",
     "text": [
      "Best k: 11\n",
      "Accuracy with best k: 0.5244755244755245\n"
     ]
    }
   ],
   "source": [
    "from sklearn.model_selection import LeaveOneOut, cross_val_score\n",
    "\n",
    "\n",
    "k_values = range(1, 21)  # Trying k values from 1 to 20\n",
    "\n",
    "# Perform LOOCV for each value of k\n",
    "mean_accuracy_scores = []\n",
    "for k in k_values:\n",
    "    knn_classifier = KNeighborsClassifier(n_neighbors=k)\n",
    "    loocv = LeaveOneOut()\n",
    "    scores = cross_val_score(knn_classifier, X, y, cv=loocv)\n",
    "    mean_accuracy_scores.append(scores.mean())\n",
    "\n",
    "# Find the best k value\n",
    "best_k = k_values[np.argmax(mean_accuracy_scores)]\n",
    "best_accuracy = max(mean_accuracy_scores)\n",
    "\n",
    "print(f\"Best k: {best_k}\")\n",
    "print(f\"Accuracy with best k: {best_accuracy}\")\n"
   ]
  }
 ],
 "metadata": {
  "kernelspec": {
   "display_name": "Python 3",
   "language": "python",
   "name": "python3"
  },
  "language_info": {
   "codemirror_mode": {
    "name": "ipython",
    "version": 3
   },
   "file_extension": ".py",
   "mimetype": "text/x-python",
   "name": "python",
   "nbconvert_exporter": "python",
   "pygments_lexer": "ipython3",
   "version": "3.11.1"
  }
 },
 "nbformat": 4,
 "nbformat_minor": 2
}
