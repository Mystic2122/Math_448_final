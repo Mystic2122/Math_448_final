{
 "cells": [
  {
   "cell_type": "code",
   "execution_count": 62,
   "metadata": {},
   "outputs": [],
   "source": [
    "import pandas as pd\n",
    "import statsmodels.api as sm\n",
    "import numpy as np\n",
    "import matplotlib.pyplot as plt\n",
    "from sklearn.neighbors import KNeighborsClassifier\n",
    "from sklearn import linear_model, preprocessing\n",
    "import sklearn.model_selection\n",
    "from sklearn.model_selection import train_test_split"
   ]
  },
  {
   "cell_type": "code",
   "execution_count": 63,
   "metadata": {},
   "outputs": [],
   "source": [
    "data = pd.read_json(\"NBA_player_data.json\")"
   ]
  },
  {
   "cell_type": "code",
   "execution_count": 64,
   "metadata": {},
   "outputs": [],
   "source": [
    "position_mapping = {\"PG\": 1, \"SG\": 2, \"SF\": 3, \"PF\": 4, \"C\": 5}\n",
    "\n",
    "data = data.drop(data.columns[0], axis=1)"
   ]
  },
  {
   "cell_type": "code",
   "execution_count": 65,
   "metadata": {},
   "outputs": [],
   "source": [
    "features = [\"AST\", \"TRB\", \"BLK\", \"STL\", \"TOV\", \"FG%\", \"FT%\"]\n",
    "target = \"Pos\"\n",
    "\n",
    "X = data[features]\n",
    "y = data[target]\n",
    "\n",
    "# Split the data into training and testing sets\n",
    "X_train, X_test, y_train, y_test = train_test_split(X, y, test_size=0.1,random_state=42)\n"
   ]
  },
  {
   "cell_type": "code",
   "execution_count": 66,
   "metadata": {},
   "outputs": [
    {
     "name": "stdout",
     "output_type": "stream",
     "text": [
      "Best k: 11\n",
      "Accuracy with best k: 0.5244755244755245\n"
     ]
    }
   ],
   "source": [
    "#LOOCV\n",
    "from sklearn.model_selection import LeaveOneOut, cross_val_score\n",
    "\n",
    "\n",
    "k_values = range(1, 21)  # Trying k values from 1 to 20\n",
    "\n",
    "# Perform LOOCV for each value of k\n",
    "mean_accuracy_scores = []\n",
    "for k in k_values:\n",
    "    knn_classifier = KNeighborsClassifier(n_neighbors=k)\n",
    "    loocv = LeaveOneOut()\n",
    "    scores = cross_val_score(knn_classifier, X, y, cv=loocv)\n",
    "    mean_accuracy_scores.append(scores.mean())\n",
    "\n",
    "# Find the best k value\n",
    "best_k = k_values[np.argmax(mean_accuracy_scores)]\n",
    "best_accuracy = max(mean_accuracy_scores)\n",
    "\n",
    "model = KNeighborsClassifier(n_neighbors=best_k)\n",
    "\n",
    "print(f\"Best k: {best_k}\")\n",
    "print(f\"Accuracy with best k: {best_accuracy}\")\n"
   ]
  },
  {
   "cell_type": "code",
   "execution_count": 67,
   "metadata": {},
   "outputs": [
    {
     "name": "stdout",
     "output_type": "stream",
     "text": [
      "Mean accuracy with 100-fold cross-validation: 0.5235\n"
     ]
    }
   ],
   "source": [
    "from sklearn.model_selection import cross_val_score, KFold\n",
    "k_folds = 100\n",
    "\n",
    "# Define the KNN classifier\n",
    "knn_classifier = KNeighborsClassifier(n_neighbors=best_k) \n",
    "\n",
    "# Perform k-fold cross-validation\n",
    "kfold = KFold(n_splits=k_folds)\n",
    "scores = cross_val_score(knn_classifier, X, y, cv=kfold)\n",
    "\n",
    "# Calculate the mean accuracy\n",
    "mean_accuracy = scores.mean()\n",
    "\n",
    "print(f\"Mean accuracy with {k_folds}-fold cross-validation: {mean_accuracy}\")"
   ]
  },
  {
   "cell_type": "code",
   "execution_count": 68,
   "metadata": {},
   "outputs": [
    {
     "name": "stdout",
     "output_type": "stream",
     "text": [
      "Prediction: ['PF']\n"
     ]
    },
    {
     "name": "stderr",
     "output_type": "stream",
     "text": [
      "c:\\Users\\14156\\.pyenv\\pyenv-win\\versions\\3.11.1\\Lib\\site-packages\\sklearn\\base.py:493: UserWarning: X does not have valid feature names, but KNeighborsClassifier was fitted with feature names\n",
      "  warnings.warn(\n"
     ]
    }
   ],
   "source": [
    "from sklearn.neighbors import KNeighborsClassifier\n",
    "\n",
    "best_k = 11 \n",
    "\n",
    "\n",
    "\n",
    "\n",
    "model.fit(X_train, y_train)\n",
    "\n",
    "# Once the model is trained, you can use it for predictions\n",
    "# For example, to predict the position of Keegan Murray based on his statistics\n",
    "data_point = [[1.2, 4.6, 0.5, 0.8, 0.8, 0.453, 0.765]]  # Example data point\n",
    "prediction = model.predict(data_point)\n",
    "\n",
    "print(\"Prediction:\", prediction)\n"
   ]
  },
  {
   "cell_type": "code",
   "execution_count": 69,
   "metadata": {},
   "outputs": [
    {
     "name": "stdout",
     "output_type": "stream",
     "text": [
      "0.4418604651162791\n"
     ]
    }
   ],
   "source": [
    "from sklearn.metrics import accuracy_score\n",
    "y_pred=model.predict(X_test)\n",
    "acc=accuracy_score(y_test,y_pred)\n",
    "print(acc)"
   ]
  }
 ],
 "metadata": {
  "kernelspec": {
   "display_name": "Python 3",
   "language": "python",
   "name": "python3"
  },
  "language_info": {
   "codemirror_mode": {
    "name": "ipython",
    "version": 3
   },
   "file_extension": ".py",
   "mimetype": "text/x-python",
   "name": "python",
   "nbconvert_exporter": "python",
   "pygments_lexer": "ipython3",
   "version": "3.11.1"
  }
 },
 "nbformat": 4,
 "nbformat_minor": 2
}
