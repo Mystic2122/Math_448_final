{
 "cells": [
  {
   "cell_type": "code",
   "execution_count": 1,
   "metadata": {},
   "outputs": [],
   "source": [
    "import pandas as pd\n",
    "import statsmodels.api as sm\n",
    "import numpy as np\n",
    "import matplotlib.pyplot as plt\n",
    "from sklearn.neighbors import KNeighborsClassifier\n",
    "from sklearn.model_selection import train_test_split"
   ]
  },
  {
   "cell_type": "code",
   "execution_count": 2,
   "metadata": {},
   "outputs": [],
   "source": [
    "data = pd.read_json(\"NBA_player_data.json\")"
   ]
  },
  {
   "cell_type": "code",
   "execution_count": 3,
   "metadata": {},
   "outputs": [],
   "source": [
    "position_mapping = {\"PG\": 1, \"SG\": 2, \"SF\": 3, \"PF\": 4, \"C\": 5}\n",
    "\n",
    "data = data.drop(data.columns[0], axis=1)"
   ]
  },
  {
   "cell_type": "code",
   "execution_count": 4,
   "metadata": {},
   "outputs": [],
   "source": [
    "features = [\"AST\",\"BLK\",\"TRB\",  \"STL\", \"TOV\", \"FG%\",\"FGA\",\"3P%\",\"2P%\"]\n",
    "target = \"Pos\"\n",
    "\n",
    "X = data[features]\n",
    "y = data[target]\n",
    "\n",
    "# Split the data into training and testing sets\n",
    "X_train, X_test, y_train, y_test = train_test_split(X, y, test_size=0.1,random_state=42)\n"
   ]
  },
  {
   "cell_type": "code",
   "execution_count": 5,
   "metadata": {},
   "outputs": [
    {
     "name": "stdout",
     "output_type": "stream",
     "text": [
      "Best k: 8\n",
      "Accuracy with best k: 0.5524475524475524\n"
     ]
    }
   ],
   "source": [
    "#LOOCV\n",
    "from sklearn.model_selection import LeaveOneOut, cross_val_score\n",
    "\n",
    "\n",
    "k_values = range(1, 21)  # Trying k values from 1 to 20\n",
    "\n",
    "# Perform LOOCV for each value of k\n",
    "mean_accuracy_scores = []\n",
    "for k in k_values:\n",
    "    knn_classifier = KNeighborsClassifier(n_neighbors=k)\n",
    "    loocv = LeaveOneOut()\n",
    "    scores = cross_val_score(knn_classifier, X, y, cv=loocv)\n",
    "    mean_accuracy_scores.append(scores.mean())\n",
    "\n",
    "# Find the best k value\n",
    "best_k = k_values[np.argmax(mean_accuracy_scores)]\n",
    "best_accuracy = max(mean_accuracy_scores)\n",
    "\n",
    "model = KNeighborsClassifier(n_neighbors=best_k)\n",
    "model.fit(X_train,y_train)\n",
    "print(f\"Best k: {best_k}\")\n",
    "print(f\"Accuracy with best k: {best_accuracy}\")\n",
    "#Best k = 8\n"
   ]
  },
  {
   "cell_type": "code",
   "execution_count": 6,
   "metadata": {},
   "outputs": [
    {
     "name": "stdout",
     "output_type": "stream",
     "text": [
      "Mean accuracy with 14-fold cross-validation: 0.5554531490015361\n"
     ]
    }
   ],
   "source": [
    "from sklearn.model_selection import cross_val_score, KFold\n",
    "\n",
    "# Define the KNN classifier\n",
    "knn_classifier = KNeighborsClassifier(n_neighbors=best_k) \n",
    "\n",
    "acc = {}\n",
    "\n",
    "# Perform k-fold cross-validation\n",
    "for i in range(5,21):\n",
    "    kfold = KFold(n_splits=i)\n",
    "    scores = cross_val_score(knn_classifier, X, y, cv=i)\n",
    "\n",
    "    # Calculate the mean accuracy\n",
    "    mean_accuracy = scores.mean()\n",
    "    acc[i] = mean_accuracy\n",
    "\n",
    "max_acc = max(acc.values())\n",
    "max_fold = max(acc, key=acc.get)\n",
    "\n",
    "print(f\"Mean accuracy with {max_fold}-fold cross-validation: {max_acc}\")\n",
    "#Best fold = 14"
   ]
  },
  {
   "cell_type": "code",
   "execution_count": 8,
   "metadata": {},
   "outputs": [
    {
     "data": {
      "image/png": "[encoded data removed]",
      "text/plain": [
       "<Figure size 800x600 with 2 Axes>"
      ]
     },
     "metadata": {},
     "output_type": "display_data"
    }
   ],
   "source": [
    "from sklearn.metrics import confusion_matrix\n",
    "import seaborn as sns\n",
    "k = 14\n",
    "kf = KFold(n_splits=k, shuffle=True, random_state=42)\n",
    "\n",
    "# Initialize an empty array to store confusion matrices\n",
    "conf_matrices = []\n",
    "\n",
    "for train_index, test_index in kf.split(X):\n",
    "    X_train, X_test = X.iloc[train_index], X.iloc[test_index]\n",
    "    y_train, y_test = y.iloc[train_index], y.iloc[test_index]\n",
    "    \n",
    "    # Fit LDA model\n",
    "    model = knn_classifier.fit(X_train, y_train)\n",
    "    \n",
    "    # Make predictions\n",
    "    knn_pred = model.predict(X_test)\n",
    "    \n",
    "    # Calculate confusion matrix\n",
    "    cm = confusion_matrix(y_test, knn_pred)\n",
    "    conf_matrices.append(cm)\n",
    "\n",
    "# Calculate the average confusion matrix\n",
    "avg_conf_matrix = np.mean(conf_matrices, axis=0, dtype=int)\n",
    "\n",
    "# Plot the average confusion matrix heatmap\n",
    "plt.figure(figsize=(8, 6))\n",
    "sns.heatmap(avg_conf_matrix, annot=True, fmt='d', cmap='Blues', xticklabels=model.classes_, yticklabels=model.classes_)\n",
    "plt.xlabel('Predicted')\n",
    "plt.ylabel('Actual')\n",
    "plt.title(f'Average Confusion Matrix (k={k})')\n",
    "plt.show()"
   ]
  }
 ],
 "metadata": {
  "kernelspec": {
   "display_name": "Python 3",
   "language": "python",
   "name": "python3"
  },
  "language_info": {
   "codemirror_mode": {
    "name": "ipython",
    "version": 3
   },
   "file_extension": ".py",
   "mimetype": "text/x-python",
   "name": "python",
   "nbconvert_exporter": "python",
   "pygments_lexer": "ipython3",
   "version": "3.11.1"
  }
 },
 "nbformat": 4,
 "nbformat_minor": 2
}
