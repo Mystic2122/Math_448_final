{
 "cells": [
  {
   "cell_type": "code",
   "execution_count": 4,
   "metadata": {},
   "outputs": [],
   "source": [
    "import pandas as pd\n",
    "import numpy as np\n",
    "import statsmodels.api as sm\n",
    "import matplotlib.pyplot as plt\n"
   ]
  },
  {
   "cell_type": "code",
   "execution_count": 5,
   "metadata": {},
   "outputs": [],
   "source": [
    "df = pd.read_json(\"NBA_player_data.json\")"
   ]
  },
  {
   "cell_type": "code",
   "execution_count": 6,
   "metadata": {},
   "outputs": [],
   "source": [
    "#Replaces position names with numbers\n",
    "position_mapping = {\"PG\": 1, \"SG\": 2, \"SF\": 3, \"PF\": 4, \"C\": 5}\n",
    "df[\"Pos\"] = df[\"Pos\"].map(position_mapping)\n",
    "df = df.dropna(subset=['Pos', 'FT%'])"
   ]
  },
  {
   "cell_type": "code",
   "execution_count": null,
   "metadata": {},
   "outputs": [],
   "source": [
    "y = df[\"Pos\"]\n",
    "X = df[\"FT%\"]\n",
    "\n",
    "model = sm.OLS(y,X).fit()\n",
    "print(model.summary())"
   ]
  },
  {
   "cell_type": "code",
   "execution_count": null,
   "metadata": {},
   "outputs": [],
   "source": [
    "positions = [1, 2, 3, 4, 5]  # Numeric representation of positions\n",
    "position_labels = ['PG', 'SG', 'SF', 'PF', 'C']  # Labels for positions"
   ]
  },
  {
   "cell_type": "code",
   "execution_count": null,
   "metadata": {},
   "outputs": [],
   "source": [
    "#Points\n",
    "average_pts_by_position = {position: df[df['Pos'] == position][\"PTS\"].mean() for position in positions}\n",
    "plt.scatter(list(average_pts_by_position.keys()), list(average_pts_by_position.values()))\n",
    "plt.xlabel(\"Position\")\n",
    "plt.ylabel(\"Average Points\")\n",
    "plt.title(\"Average Points per game by Position\")\n",
    "\n",
    "plt.xticks(positions,position_labels)\n",
    "\n",
    "plt.show()\n"
   ]
  },
  {
   "cell_type": "code",
   "execution_count": null,
   "metadata": {},
   "outputs": [],
   "source": [
    "#Free throw percentage\n",
    "average_ftp_by_position = {position: df[df['Pos'] == position]['FT%'].mean() for position in positions}\n",
    "\n",
    "plt.scatter(list(average_ftp_by_position.keys()), list(average_ftp_by_position.values()))\n",
    "plt.xlabel('Position')\n",
    "plt.ylabel('Average FT%')\n",
    "plt.title('Average Free Throw Percentage by Position')\n",
    "\n",
    "# Customize the tick labels on the x-axis\n",
    "plt.xticks(positions, position_labels)\n",
    "\n",
    "plt.show()\n"
   ]
  },
  {
   "cell_type": "code",
   "execution_count": null,
   "metadata": {},
   "outputs": [],
   "source": [
    "#Blocks\n",
    "average_blocks_by_position = {position: df[df['Pos'] == position]['BLK'].mean() for position in positions}\n",
    "plt.scatter(list(average_blocks_by_position.keys()), list(average_blocks_by_position.values()))\n",
    "plt.xlabel('Position')\n",
    "plt.ylabel('Average Blocks')\n",
    "plt.title('Average Blocks per game by Position')\n",
    "\n",
    "# Customize the tick labels on the x-axis\n",
    "plt.xticks(positions, position_labels)\n",
    "\n",
    "plt.show()\n"
   ]
  },
  {
   "cell_type": "code",
   "execution_count": null,
   "metadata": {},
   "outputs": [],
   "source": [
    "#Assists\n",
    "average_ast_by_position = {position: df[df['Pos'] == position][\"AST\"].mean() for position in positions}\n",
    "plt.scatter(list(average_ast_by_position.keys()), list(average_ast_by_position.values()))\n",
    "plt.xlabel(\"Position\")\n",
    "plt.ylabel(\"Average Assists\")\n",
    "plt.title(\"Average Assists per game by Position\")\n",
    "\n",
    "plt.xticks(positions,position_labels)\n",
    "\n",
    "plt.show()"
   ]
  },
  {
   "cell_type": "code",
   "execution_count": null,
   "metadata": {},
   "outputs": [],
   "source": [
    "#Field goal percentage\n",
    "average_fgp_by_position = {position: df[df['Pos'] == position][\"FG%\"].mean() for position in positions}\n",
    "plt.scatter(list(average_fgp_by_position.keys()), list(average_fgp_by_position.values()))\n",
    "plt.xlabel(\"Position\")\n",
    "plt.ylabel(\"Average Field Goal %\")\n",
    "plt.title(\"Average Field Goal %\\ by Position\")\n",
    "\n",
    "plt.xticks(positions,position_labels)\n",
    "\n",
    "plt.show()"
   ]
  }
 ],
 "metadata": {
  "kernelspec": {
   "display_name": "Python 3",
   "language": "python",
   "name": "python3"
  },
  "language_info": {
   "codemirror_mode": {
    "name": "ipython",
    "version": 3
   },
   "file_extension": ".py",
   "mimetype": "text/x-python",
   "name": "python",
   "nbconvert_exporter": "python",
   "pygments_lexer": "ipython3",
   "version": "3.11.1"
  }
 },
 "nbformat": 4,
 "nbformat_minor": 2
}
