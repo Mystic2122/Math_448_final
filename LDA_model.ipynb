{
 "cells": [
  {
   "cell_type": "code",
   "execution_count": 2,
   "metadata": {},
   "outputs": [],
   "source": [
    "import pandas as pd\n",
    "import statsmodels.api as sm\n",
    "import numpy as np\n",
    "import matplotlib.pyplot as plt\n",
    "from sklearn.neighbors import KNeighborsClassifier\n",
    "from sklearn import linear_model, preprocessing\n",
    "import sklearn.model_selection\n",
    "from sklearn.model_selection import train_test_split"
   ]
  },
  {
   "cell_type": "code",
   "execution_count": 3,
   "metadata": {},
   "outputs": [],
   "source": [
    "data = pd.read_json(\"NBA_player_data.json\")"
   ]
  },
  {
   "cell_type": "code",
   "execution_count": 4,
   "metadata": {},
   "outputs": [],
   "source": [
    "position_mapping = {\"PG\": 1, \"SG\": 2, \"SF\": 3, \"PF\": 4, \"C\": 5}\n",
    "\n",
    "data = data.drop(data.columns[0], axis=1)"
   ]
  },
  {
   "cell_type": "code",
   "execution_count": 9,
   "metadata": {},
   "outputs": [],
   "source": [
    "features = [\"AST\", \"TRB\", \"BLK\", \"STL\", \"TOV\", \"3PA\",\"FTA\"]\n",
    "target = \"Pos\"\n",
    "\n",
    "X = data[features]\n",
    "y = data[target]\n",
    "\n",
    "# Split the data into training and testing sets\n",
    "X_train, X_test, y_train, y_test = train_test_split(X, y, test_size=0.1,random_state=42)"
   ]
  },
  {
   "cell_type": "code",
   "execution_count": 10,
   "metadata": {},
   "outputs": [
    {
     "name": "stdout",
     "output_type": "stream",
     "text": [
      "Best k: 6\n",
      "Accuracy with best k: 0.5384615384615384\n"
     ]
    }
   ],
   "source": [
    "#LOOCV\n",
    "from sklearn.model_selection import LeaveOneOut, cross_val_score\n",
    "\n",
    "\n",
    "k_values = range(1, 21)  # Trying k values from 1 to 20\n",
    "\n",
    "# Perform LOOCV for each value of k\n",
    "mean_accuracy_scores = []\n",
    "for k in k_values:\n",
    "    knn_classifier = KNeighborsClassifier(n_neighbors=k)\n",
    "    loocv = LeaveOneOut()\n",
    "    scores = cross_val_score(knn_classifier, X, y, cv=loocv)\n",
    "    mean_accuracy_scores.append(scores.mean())\n",
    "\n",
    "# Find the best k value\n",
    "best_k = k_values[np.argmax(mean_accuracy_scores)]\n",
    "best_accuracy = max(mean_accuracy_scores)\n",
    "\n",
    "model = KNeighborsClassifier(n_neighbors=best_k)\n",
    "model.fit(X_train,y_train)\n",
    "print(f\"Best k: {best_k}\")\n",
    "print(f\"Accuracy with best k: {best_accuracy}\")"
   ]
  },
  {
   "cell_type": "code",
   "execution_count": 27,
   "metadata": {},
   "outputs": [
    {
     "name": "stdout",
     "output_type": "stream",
     "text": [
      "Highest Accuracy: 0.5433554817275749\n",
      "Corresponding Subset: ('AST', 'BLK')\n"
     ]
    }
   ],
   "source": [
    "from itertools import combinations\n",
    "from sklearn.neighbors import KNeighborsClassifier\n",
    "from sklearn.model_selection import cross_val_score\n",
    "import numpy as np\n",
    "\n",
    "# Define the feature names\n",
    "features = [\"AST\",\"BLK\",\"TRB\",  \"STL\", \"TOV\", \"FG%\",\"FGA\",\"3P%\",\"2P%\"]\n",
    "\n",
    "# Define the target variable\n",
    "target = \"Pos\"  # Replace \"Pos\" with your actual target variable\n",
    "\n",
    "# Load your dataset (assuming 'data' is your dataset)\n",
    "# data = ...\n",
    "\n",
    "# Define the range of k for KNN\n",
    "k_values = range(1, 11)  # Trying k values from 1 to 20\n",
    "\n",
    "# Initialize variables to store the best subset, best accuracy, and best k\n",
    "best_subset = None\n",
    "best_accuracy = 0\n",
    "best_k = None\n",
    "\n",
    "# Loop over all subsets of the list\n",
    "for r in range(1, len(features) + 1):\n",
    "    for subset in combinations(test_features, r):\n",
    "        X = data[list(subset)+list(features)]\n",
    "        y = data[target]\n",
    "\n",
    "        # Perform k-fold cross-validation for each value of k\n",
    "        for k in k_values:\n",
    "            knn_classifier = KNeighborsClassifier(n_neighbors=k)\n",
    "            scores = cross_val_score(knn_classifier, X, y, cv=10)  # 10-fold cross-validation\n",
    "            mean_accuracy = np.mean(scores)\n",
    "\n",
    "            # Update best subset, best accuracy, and best k if current subset performs better\n",
    "            if mean_accuracy > best_accuracy:\n",
    "                best_subset = subset\n",
    "                best_accuracy = mean_accuracy\n",
    "                best_k = k\n",
    "\n",
    "# Print the highest accuracy and the corresponding subset\n",
    "print(f\"Highest Accuracy: {best_accuracy}\")\n",
    "print(f\"Corresponding Subset: {best_subset}\")\n",
    "\n",
    "\n"
   ]
  },
  {
   "cell_type": "code",
   "execution_count": 25,
   "metadata": {},
   "outputs": [],
   "source": [
    "a = [1,2,3,4]\n",
    "for subset in combinations(a,r):\n",
    "    print(subset)"
   ]
  }
 ],
 "metadata": {
  "kernelspec": {
   "display_name": "Python 3",
   "language": "python",
   "name": "python3"
  },
  "language_info": {
   "codemirror_mode": {
    "name": "ipython",
    "version": 3
   },
   "file_extension": ".py",
   "mimetype": "text/x-python",
   "name": "python",
   "nbconvert_exporter": "python",
   "pygments_lexer": "ipython3",
   "version": "3.11.1"
  }
 },
 "nbformat": 4,
 "nbformat_minor": 2
}
